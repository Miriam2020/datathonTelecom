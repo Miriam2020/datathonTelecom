{
 "cells": [
  {
   "cell_type": "markdown",
   "metadata": {},
   "source": [
    "<img src=\"../imagenes/flow.png\" width=\"350\" height=\"150\"> <img src=\"../imagenes/cp.png\" width=\"310\" height=\"150\"><br>\n",
    "# **Datathon2021**\n",
    "### Desafío: **Recomendador**\n",
    "### Participante: **Miriam Lanabere**\n",
    "---"
   ]
  },
  {
   "cell_type": "markdown",
   "metadata": {},
   "source": [
    "<a id=\"indice\"></a> \n",
    "### Indice\n",
    "\n",
    "<a href='#Objetivo'>1. Objetivo</a>\n",
    "\n",
    "<a href='#Workflow'>2. Workflow</a>\n",
    "\n",
    "<a href='#Dataset'>3. Dataset</a>\n",
    "\n",
    "<a href='#Data_wrangling'>4. Data wrangling</a>\n",
    "\n",
    "<a href='#EDA'>5. EDA</a>\n",
    "\n",
    "<a href='#Modeling'>6. Modeling</a>\n",
    "\n",
    "<a href='#Conclusión'>7. Conclusión</a>"
   ]
  },
  {
   "cell_type": "markdown",
   "metadata": {},
   "source": [
    "<a id=\"Objetivo\"></a> \n",
    "### 1. Objetivo\n",
    "\n",
    "La personalización de las plataformas digitales de contenidos audiovisuales es un aspecto central en la calidad de la experiencia de los usuarios. Dada la amplia oferta de posibilidades, los consumidores tienden a valorar las recomendaciones sobre qué contenidos ver que sean acordes a sus preferencias.\n",
    "\n",
    "En este sentido,se plantea el siguiente desafío: **desarrollar un sistema de recomendación para predecir qué nuevos contenidos, no previamente vistos, son más probables a ser elegidos para ver en Flow por un grupo de usuarios en base a su historial de visualizaciones.** \n",
    "\n",
    "Partiendo de las visualizaciones de un conjunto de usuarios de Flow correspondientes a un trimestre del 2021, el desafío consiste en predecir qué nuevas visualizaciones tuvo cada perfil durante el mes siguiente.\n",
    "\n",
    "Algunas consideraciones:\n",
    "\n",
    "<ul>\n",
    "    <li> Sistema de recomendación híbrido: combinar los beneficios de los modelos de recomendación basados en contenido y de filtro colaborativo. </li>\n",
    "    <li> Excluir de la recomendación los contenidos ya vistos por el usuario y sus derivados (sagas, episodios, etc.) </li>\n",
    "</ul>"
   ]
  },
  {
   "cell_type": "markdown",
   "metadata": {},
   "source": [
    "<a id=\"Workflow\"></a> \n",
    "### 2. Workflow\n",
    "\n",
    "Para el desafío se ofrecen 3 bases de datos:\n",
    "\n",
    "<ul>\n",
    "    <li> train.csv: contiene los registros de visualizaciones de contenidos de Flow correspondiente a una muestra aleatoria de más de 113 mil perfiles.</li>\n",
    "    <li> metadata.csv: contiene la metadata asociada a cada uno de los contenidos. </li>\n",
    "    <li> iso_3166_1.json: contiene un diccionario de los códigos de nombres de países propios del estándar internacional de normalización ISO 3166.</li>\n",
    "</ul>\n",
    "\n",
    "El resultado a entregar deber ser una lista de recomendación con los primeros 20 resultados:\n",
    "\n",
    "**account_id: [content_id X 20]**<br>\n",
    "**account_id: [content_id X 20]**<br>\n",
    "**account_id: [content_id X 20]**<br>\n",
    "...<br>\n",
    "**(X 113mil account_id)**\n",
    "\n",
    "Se propone el siguiente esquema de trabajo para armar el modelo de recomendación:\n",
    "\n",
    "\n"
   ]
  },
  {
   "cell_type": "markdown",
   "metadata": {},
   "source": [
    "<a id=\"Dataset\"></a> \n",
    "### 3. Dataset\n",
    "\n",
    "Importamos los archivos train y metadata, los unimos por la variable \"asset_id\" y armamos un único dataframe con la siguiente información:\n",
    "\n",
    "**train.csv**<br>\n",
    "<ul>\n",
    "    <li>customer_id: código de identificación de cada cliente de Flow (puede tener asociados uno o más account_id)</li>\n",
    "    <li>account_id: código de identificación de cada perfil de Flow (se corresponde con un único customer_id)</li>\n",
    "    <li>device_type: indica el tipo de dispositivo desde el que se efectuó la visualización. Las categorías posibles son:</li>\n",
    "    <ul>\n",
    "        <li>CLOUD: cliente web</li>\n",
    "        <li>PHONE: teléfono celular</li>\n",
    "        <li>STATIONARY: smart TV</li>\n",
    "        <li>STB: set-top box, el decodificador Flow</li>\n",
    "        <li>TABLET</li>\n",
    "    </ul>\n",
    "    <li>asset_id: código de identificación de cada activo (video) disponible en la plataforma</li>\n",
    "    <li>tunein: fecha y hora de inicio de cada visualización</li>\n",
    "    <li>tuneout: fecha y hora de finalización de cada visualización</li>\n",
    "    <li>resume: variable dummy que indica si se reanuda un consumo anterior del mismo asset_id</li>\n",
    "</ul>\n",
    "    \n",
    "**metadata.csv**<br>\n",
    "<ul>\n",
    "    <li>asset_id: código de identificación de cada activo (video) disponible en Flow</li>\n",
    "    <li>content_id: código de identificación que agrupa los distintos asset_id asociados a un mismo contenido (por ejemplo, cada episodio de una misma serie tiene su propio asset_id, mientras que la serie se identifica con un content_id único)</li>\n",
    "    <li>title: título</li>\n",
    "    <li>reduced_title: título reducido</li>\n",
    "    <li>episode_title: título del episodio (válido para contenidos episódicos, como las series)</li>\n",
    "    <li>show_type: tipo de show - las categorías son autorreferenciales con excepción de “Rolling”, que indica que se trata de una serie incompleta, y “Web”, la cual remite a contenidos pensados íntegramente en formato digital (series web) -</li>\n",
    "    <li>released_year: año de lanzamiento</li>\n",
    "    <li>country_of_origin: país de origen – expresado con el código de dos letras propio del estándar internacional de normalización ISO 3166 -</li>\n",
    "    <li>category: categoría o género al que pertenece el contenido - puede haber una o más -</li>\n",
    "    <li>keywords: palabras clave o tags asociadas al contenido - puede haber una o más -</li>\n",
    "    <li>description: descripción (sinopsis)</li>\n",
    "    <li>reduced_desc: descripción (sinopsis) reducida</li>\n",
    "    <li>cast_first_name: nombre y apellido de los actores y actrices principales</li>\n",
    "    <li>credits_first_name: nombre y apellido del director o directora</li>\n",
    "    <li>run_time_min: duración total, expresada en minutos</li>\n",
    "    <li>audience: audiencia target</li>\n",
    "    <li>made_for_tv: variable dummy que indica si el contenido fue hecho para TV</li>\n",
    "    <li>close_caption: variable dummy que indica si el contenido posee subtítulos</li>\n",
    "    <li>sex_rating: variable dummy que indica si el contenido tiene escenas de sexo explícitas</li>\n",
    "    <li>violence_rating: variable dummy que indica si el contenido tiene escenas de violencia explícitas</li>\n",
    "    <li>language_rating: variable dummy que indica si el contenido posee lenguaje que puede ser considerado ofensivo o inapropiado</li>\n",
    "    <li>dialog_rating: variable dummy que indica si el contenido posee diálogos que pueden ser considerado ofensivos o inapropiados</li>\n",
    "    <li>fv_rating: variable dummy que indica si el contenido tiene rating de FV, que corresponde a público infantil con violencia ficticia</li>\n",
    "    <li>pay_per_view: variable dummy que indica si se trata de un alquiler</li>\n",
    "    <li>pack_premium_1: variable dummy que indica si se trata de un contenido exclusivo del pack premium 1</li>\n",
    "    <li>pack_premium_2: variable dummy que indica si se trata de un contenido exclusivo del pack premium 2</li>\n",
    "    <li>create_date: fecha de creación del activo</li>\n",
    "    <li>modify_date: fecha de modificación del activo</li>\n",
    "    <li>start_vod_date: fecha desde la cual el activo se encuentra disponible en la plataforma</li>\n",
    "    <li>end_vod_date: fecha de finalización de la disponibilidad del activo en la plataforma</li>\n",
    "</ul>"
   ]
  },
  {
   "cell_type": "code",
   "execution_count": 1,
   "metadata": {},
   "outputs": [],
   "source": [
    "import pandas as pd\n",
    "import numpy as np\n",
    "import matplotlib.pyplot as plt\n",
    "import seaborn as sns"
   ]
  },
  {
   "cell_type": "code",
   "execution_count": 2,
   "metadata": {},
   "outputs": [
    {
     "data": {
      "text/html": [
       "<div>\n",
       "<style scoped>\n",
       "    .dataframe tbody tr th:only-of-type {\n",
       "        vertical-align: middle;\n",
       "    }\n",
       "\n",
       "    .dataframe tbody tr th {\n",
       "        vertical-align: top;\n",
       "    }\n",
       "\n",
       "    .dataframe thead th {\n",
       "        text-align: right;\n",
       "    }\n",
       "</style>\n",
       "<table border=\"1\" class=\"dataframe\">\n",
       "  <thead>\n",
       "    <tr style=\"text-align: right;\">\n",
       "      <th></th>\n",
       "      <th>customer_id</th>\n",
       "      <th>account_id</th>\n",
       "      <th>device_type</th>\n",
       "      <th>asset_id</th>\n",
       "      <th>tunein</th>\n",
       "      <th>tuneout</th>\n",
       "      <th>resume</th>\n",
       "    </tr>\n",
       "  </thead>\n",
       "  <tbody>\n",
       "    <tr>\n",
       "      <th>0</th>\n",
       "      <td>0</td>\n",
       "      <td>90627</td>\n",
       "      <td>STATIONARY</td>\n",
       "      <td>18332.0</td>\n",
       "      <td>2021-02-18 22:52:00.0</td>\n",
       "      <td>2021-02-18 23:35:00.0</td>\n",
       "      <td>0</td>\n",
       "    </tr>\n",
       "    <tr>\n",
       "      <th>1</th>\n",
       "      <td>0</td>\n",
       "      <td>90627</td>\n",
       "      <td>STATIONARY</td>\n",
       "      <td>24727.0</td>\n",
       "      <td>2021-03-24 23:17:00.0</td>\n",
       "      <td>2021-03-25 00:01:00.0</td>\n",
       "      <td>0</td>\n",
       "    </tr>\n",
       "    <tr>\n",
       "      <th>2</th>\n",
       "      <td>1</td>\n",
       "      <td>3387</td>\n",
       "      <td>STB</td>\n",
       "      <td>895.0</td>\n",
       "      <td>2021-03-15 10:05:00.0</td>\n",
       "      <td>2021-03-15 10:23:00.0</td>\n",
       "      <td>0</td>\n",
       "    </tr>\n",
       "    <tr>\n",
       "      <th>3</th>\n",
       "      <td>1</td>\n",
       "      <td>3387</td>\n",
       "      <td>STB</td>\n",
       "      <td>895.0</td>\n",
       "      <td>2021-03-15 10:23:00.0</td>\n",
       "      <td>2021-03-15 11:18:00.0</td>\n",
       "      <td>1</td>\n",
       "    </tr>\n",
       "    <tr>\n",
       "      <th>4</th>\n",
       "      <td>1</td>\n",
       "      <td>3387</td>\n",
       "      <td>STB</td>\n",
       "      <td>26062.0</td>\n",
       "      <td>2021-03-16 09:24:00.0</td>\n",
       "      <td>2021-03-16 09:44:00.0</td>\n",
       "      <td>0</td>\n",
       "    </tr>\n",
       "  </tbody>\n",
       "</table>\n",
       "</div>"
      ],
      "text/plain": [
       "   customer_id  account_id device_type  asset_id                 tunein  \\\n",
       "0            0       90627  STATIONARY   18332.0  2021-02-18 22:52:00.0   \n",
       "1            0       90627  STATIONARY   24727.0  2021-03-24 23:17:00.0   \n",
       "2            1        3387         STB     895.0  2021-03-15 10:05:00.0   \n",
       "3            1        3387         STB     895.0  2021-03-15 10:23:00.0   \n",
       "4            1        3387         STB   26062.0  2021-03-16 09:24:00.0   \n",
       "\n",
       "                 tuneout  resume  \n",
       "0  2021-02-18 23:35:00.0       0  \n",
       "1  2021-03-25 00:01:00.0       0  \n",
       "2  2021-03-15 10:23:00.0       0  \n",
       "3  2021-03-15 11:18:00.0       1  \n",
       "4  2021-03-16 09:44:00.0       0  "
      ]
     },
     "execution_count": 2,
     "metadata": {},
     "output_type": "execute_result"
    }
   ],
   "source": [
    "data = pd.read_csv(\"data/train.csv\")\n",
    "data.head(5)"
   ]
  },
  {
   "cell_type": "code",
   "execution_count": 3,
   "metadata": {},
   "outputs": [
    {
     "data": {
      "text/html": [
       "<div>\n",
       "<style scoped>\n",
       "    .dataframe tbody tr th:only-of-type {\n",
       "        vertical-align: middle;\n",
       "    }\n",
       "\n",
       "    .dataframe tbody tr th {\n",
       "        vertical-align: top;\n",
       "    }\n",
       "\n",
       "    .dataframe thead th {\n",
       "        text-align: right;\n",
       "    }\n",
       "</style>\n",
       "<table border=\"1\" class=\"dataframe\">\n",
       "  <thead>\n",
       "    <tr style=\"text-align: right;\">\n",
       "      <th></th>\n",
       "      <th>asset_id</th>\n",
       "      <th>content_id</th>\n",
       "      <th>title</th>\n",
       "      <th>reduced_title</th>\n",
       "      <th>episode_title</th>\n",
       "      <th>show_type</th>\n",
       "      <th>released_year</th>\n",
       "      <th>country_of_origin</th>\n",
       "      <th>category</th>\n",
       "      <th>keywords</th>\n",
       "      <th>...</th>\n",
       "      <th>language_rating</th>\n",
       "      <th>dialog_rating</th>\n",
       "      <th>fv_rating</th>\n",
       "      <th>pay_per_view</th>\n",
       "      <th>pack_premium_1</th>\n",
       "      <th>pack_premium_2</th>\n",
       "      <th>create_date</th>\n",
       "      <th>modify_date</th>\n",
       "      <th>start_vod_date</th>\n",
       "      <th>end_vod_date</th>\n",
       "    </tr>\n",
       "  </thead>\n",
       "  <tbody>\n",
       "    <tr>\n",
       "      <th>0</th>\n",
       "      <td>15188</td>\n",
       "      <td>0.0</td>\n",
       "      <td>Ep:17 Tiempos Compulsivos</td>\n",
       "      <td>Tiempos_Compul_E17</td>\n",
       "      <td>Episodio 17</td>\n",
       "      <td>Serie</td>\n",
       "      <td>2012.0</td>\n",
       "      <td>AR</td>\n",
       "      <td>Drama</td>\n",
       "      <td>Trastornos,Médicos,Tragicómica,Telenovela,Enfe...</td>\n",
       "      <td>...</td>\n",
       "      <td>N</td>\n",
       "      <td>N</td>\n",
       "      <td>N</td>\n",
       "      <td>N</td>\n",
       "      <td>N</td>\n",
       "      <td>N</td>\n",
       "      <td>2017-12-01T10:18:15.0Z</td>\n",
       "      <td>2019-01-26T06:37:18.0Z</td>\n",
       "      <td>2017-12-01T00:00:00.0Z</td>\n",
       "      <td>2020-12-01T23:59:59.0Z</td>\n",
       "    </tr>\n",
       "    <tr>\n",
       "      <th>1</th>\n",
       "      <td>24940</td>\n",
       "      <td>1.0</td>\n",
       "      <td>7 Cajas</td>\n",
       "      <td>7_Cajas</td>\n",
       "      <td>NaN</td>\n",
       "      <td>Película</td>\n",
       "      <td>2012.0</td>\n",
       "      <td>PY</td>\n",
       "      <td>Suspenso/Acción</td>\n",
       "      <td>Latinoamérica,Pobreza,Crimen,Pandillas</td>\n",
       "      <td>...</td>\n",
       "      <td>N</td>\n",
       "      <td>N</td>\n",
       "      <td>N</td>\n",
       "      <td>Y</td>\n",
       "      <td>N</td>\n",
       "      <td>N</td>\n",
       "      <td>2017-12-19T20:58:15.0Z</td>\n",
       "      <td>2019-09-17T19:02:03.0Z</td>\n",
       "      <td>2017-12-15T00:00:00.0Z</td>\n",
       "      <td>2022-12-14T23:59:59.0Z</td>\n",
       "    </tr>\n",
       "    <tr>\n",
       "      <th>2</th>\n",
       "      <td>21939</td>\n",
       "      <td>2.0</td>\n",
       "      <td>La Maldición de las Hormigas Gigantes</td>\n",
       "      <td>La_Maldicion_de_las</td>\n",
       "      <td>NaN</td>\n",
       "      <td>Película</td>\n",
       "      <td>2016.0</td>\n",
       "      <td>FI</td>\n",
       "      <td>Terror/Comedia</td>\n",
       "      <td>Criaturas,Plagas,Adolescentes,Fantasía,Video J...</td>\n",
       "      <td>...</td>\n",
       "      <td>N</td>\n",
       "      <td>N</td>\n",
       "      <td>N</td>\n",
       "      <td>N</td>\n",
       "      <td>N</td>\n",
       "      <td>N</td>\n",
       "      <td>2018-02-16T13:51:07.0Z</td>\n",
       "      <td>2020-04-28T14:16:38.0Z</td>\n",
       "      <td>2018-01-25T00:00:00.0Z</td>\n",
       "      <td>2020-12-01T23:59:59.0Z</td>\n",
       "    </tr>\n",
       "    <tr>\n",
       "      <th>3</th>\n",
       "      <td>9005</td>\n",
       "      <td>3.0</td>\n",
       "      <td>Una Mujer Fantástica</td>\n",
       "      <td>Una_Mujer_Fantastic</td>\n",
       "      <td>NaN</td>\n",
       "      <td>Película</td>\n",
       "      <td>2017.0</td>\n",
       "      <td>CL</td>\n",
       "      <td>Drama</td>\n",
       "      <td>LGBT,Mujeres,Latinoamérica</td>\n",
       "      <td>...</td>\n",
       "      <td>N</td>\n",
       "      <td>N</td>\n",
       "      <td>N</td>\n",
       "      <td>N</td>\n",
       "      <td>Y</td>\n",
       "      <td>N</td>\n",
       "      <td>2018-05-26T11:58:44.0Z</td>\n",
       "      <td>2019-11-15T03:00:23.0Z</td>\n",
       "      <td>2018-05-27T00:00:00.0Z</td>\n",
       "      <td>2021-04-30T23:59:59.0Z</td>\n",
       "    </tr>\n",
       "    <tr>\n",
       "      <th>4</th>\n",
       "      <td>7391</td>\n",
       "      <td>4.0</td>\n",
       "      <td>Star Trek</td>\n",
       "      <td>Star_Trek</td>\n",
       "      <td>NaN</td>\n",
       "      <td>Película</td>\n",
       "      <td>2009.0</td>\n",
       "      <td>US</td>\n",
       "      <td>Ciencia Ficción/Aventura</td>\n",
       "      <td>Fantasía,Galaxia,Futurismo,Aliens,Criaturas</td>\n",
       "      <td>...</td>\n",
       "      <td>N</td>\n",
       "      <td>N</td>\n",
       "      <td>N</td>\n",
       "      <td>Y</td>\n",
       "      <td>N</td>\n",
       "      <td>N</td>\n",
       "      <td>2019-05-03T20:07:24.0Z</td>\n",
       "      <td>2020-04-09T04:37:29.0Z</td>\n",
       "      <td>2019-05-02T00:00:00.0Z</td>\n",
       "      <td>2020-12-31T23:59:59.0Z</td>\n",
       "    </tr>\n",
       "  </tbody>\n",
       "</table>\n",
       "<p>5 rows × 30 columns</p>\n",
       "</div>"
      ],
      "text/plain": [
       "   asset_id  content_id                                  title  \\\n",
       "0     15188         0.0              Ep:17 Tiempos Compulsivos   \n",
       "1     24940         1.0                                7 Cajas   \n",
       "2     21939         2.0  La Maldición de las Hormigas Gigantes   \n",
       "3      9005         3.0                   Una Mujer Fantástica   \n",
       "4      7391         4.0                              Star Trek   \n",
       "\n",
       "         reduced_title episode_title show_type  released_year  \\\n",
       "0   Tiempos_Compul_E17   Episodio 17     Serie         2012.0   \n",
       "1              7_Cajas           NaN  Película         2012.0   \n",
       "2  La_Maldicion_de_las           NaN  Película         2016.0   \n",
       "3  Una_Mujer_Fantastic           NaN  Película         2017.0   \n",
       "4            Star_Trek           NaN  Película         2009.0   \n",
       "\n",
       "  country_of_origin                  category  \\\n",
       "0                AR                     Drama   \n",
       "1                PY           Suspenso/Acción   \n",
       "2                FI            Terror/Comedia   \n",
       "3                CL                     Drama   \n",
       "4                US  Ciencia Ficción/Aventura   \n",
       "\n",
       "                                            keywords  ... language_rating  \\\n",
       "0  Trastornos,Médicos,Tragicómica,Telenovela,Enfe...  ...               N   \n",
       "1             Latinoamérica,Pobreza,Crimen,Pandillas  ...               N   \n",
       "2  Criaturas,Plagas,Adolescentes,Fantasía,Video J...  ...               N   \n",
       "3                         LGBT,Mujeres,Latinoamérica  ...               N   \n",
       "4        Fantasía,Galaxia,Futurismo,Aliens,Criaturas  ...               N   \n",
       "\n",
       "  dialog_rating fv_rating pay_per_view  pack_premium_1 pack_premium_2  \\\n",
       "0             N         N            N               N              N   \n",
       "1             N         N            Y               N              N   \n",
       "2             N         N            N               N              N   \n",
       "3             N         N            N               Y              N   \n",
       "4             N         N            Y               N              N   \n",
       "\n",
       "              create_date             modify_date          start_vod_date  \\\n",
       "0  2017-12-01T10:18:15.0Z  2019-01-26T06:37:18.0Z  2017-12-01T00:00:00.0Z   \n",
       "1  2017-12-19T20:58:15.0Z  2019-09-17T19:02:03.0Z  2017-12-15T00:00:00.0Z   \n",
       "2  2018-02-16T13:51:07.0Z  2020-04-28T14:16:38.0Z  2018-01-25T00:00:00.0Z   \n",
       "3  2018-05-26T11:58:44.0Z  2019-11-15T03:00:23.0Z  2018-05-27T00:00:00.0Z   \n",
       "4  2019-05-03T20:07:24.0Z  2020-04-09T04:37:29.0Z  2019-05-02T00:00:00.0Z   \n",
       "\n",
       "             end_vod_date  \n",
       "0  2020-12-01T23:59:59.0Z  \n",
       "1  2022-12-14T23:59:59.0Z  \n",
       "2  2020-12-01T23:59:59.0Z  \n",
       "3  2021-04-30T23:59:59.0Z  \n",
       "4  2020-12-31T23:59:59.0Z  \n",
       "\n",
       "[5 rows x 30 columns]"
      ]
     },
     "execution_count": 3,
     "metadata": {},
     "output_type": "execute_result"
    }
   ],
   "source": [
    "meta_data = pd.read_csv(\"data/metadata.csv\", sep=\";\")\n",
    "meta_data.head()"
   ]
  },
  {
   "cell_type": "code",
   "execution_count": 4,
   "metadata": {},
   "outputs": [
    {
     "data": {
      "text/html": [
       "<div>\n",
       "<style scoped>\n",
       "    .dataframe tbody tr th:only-of-type {\n",
       "        vertical-align: middle;\n",
       "    }\n",
       "\n",
       "    .dataframe tbody tr th {\n",
       "        vertical-align: top;\n",
       "    }\n",
       "\n",
       "    .dataframe thead th {\n",
       "        text-align: right;\n",
       "    }\n",
       "</style>\n",
       "<table border=\"1\" class=\"dataframe\">\n",
       "  <thead>\n",
       "    <tr style=\"text-align: right;\">\n",
       "      <th></th>\n",
       "      <th>customer_id</th>\n",
       "      <th>account_id</th>\n",
       "      <th>device_type</th>\n",
       "      <th>asset_id</th>\n",
       "      <th>tunein</th>\n",
       "      <th>tuneout</th>\n",
       "      <th>resume</th>\n",
       "      <th>content_id</th>\n",
       "      <th>title</th>\n",
       "      <th>reduced_title</th>\n",
       "      <th>episode_title</th>\n",
       "      <th>show_type</th>\n",
       "      <th>released_year</th>\n",
       "      <th>country_of_origin</th>\n",
       "      <th>category</th>\n",
       "      <th>keywords</th>\n",
       "      <th>description</th>\n",
       "      <th>reduced_desc</th>\n",
       "      <th>cast_first_name</th>\n",
       "      <th>credits_first_name</th>\n",
       "      <th>run_time_min</th>\n",
       "      <th>audience</th>\n",
       "      <th>made_for_tv</th>\n",
       "      <th>close_caption</th>\n",
       "      <th>sex_rating</th>\n",
       "      <th>violence_rating</th>\n",
       "      <th>language_rating</th>\n",
       "      <th>dialog_rating</th>\n",
       "      <th>fv_rating</th>\n",
       "      <th>pay_per_view</th>\n",
       "      <th>pack_premium_1</th>\n",
       "      <th>pack_premium_2</th>\n",
       "      <th>create_date</th>\n",
       "      <th>modify_date</th>\n",
       "      <th>start_vod_date</th>\n",
       "      <th>end_vod_date</th>\n",
       "    </tr>\n",
       "  </thead>\n",
       "  <tbody>\n",
       "    <tr>\n",
       "      <th>0</th>\n",
       "      <td>0</td>\n",
       "      <td>90627</td>\n",
       "      <td>STATIONARY</td>\n",
       "      <td>18332.0</td>\n",
       "      <td>2021-02-18 22:52:00.0</td>\n",
       "      <td>2021-02-18 23:35:00.0</td>\n",
       "      <td>0</td>\n",
       "      <td>2040.0</td>\n",
       "      <td>T:5 Ep:08 This is Us</td>\n",
       "      <td>This_is_Us_T5_E08</td>\n",
       "      <td>En la habitación</td>\n",
       "      <td>Serie</td>\n",
       "      <td>2020.0</td>\n",
       "      <td>US</td>\n",
       "      <td>Drama/Comedia</td>\n",
       "      <td>Sociedad,Tragicómica,Adicciones,Familia,Amigos...</td>\n",
       "      <td>Los Pearson navegan juntos por grandes hitos f...</td>\n",
       "      <td>Los Pearson navegan juntos por grandes hitos f...</td>\n",
       "      <td>Milo Ventimiglia, Mandy Moore, , Chrissy Metz</td>\n",
       "      <td>Ken Olin</td>\n",
       "      <td>43.0</td>\n",
       "      <td>Mujeres</td>\n",
       "      <td>N</td>\n",
       "      <td>N</td>\n",
       "      <td>N</td>\n",
       "      <td>N</td>\n",
       "      <td>N</td>\n",
       "      <td>N</td>\n",
       "      <td>N</td>\n",
       "      <td>N</td>\n",
       "      <td>Y</td>\n",
       "      <td>N</td>\n",
       "      <td>2021-02-18T19:05:36.0Z</td>\n",
       "      <td>2021-03-25T23:13:43.0Z</td>\n",
       "      <td>2021-02-18T00:00:00.0Z</td>\n",
       "      <td>2021-06-30T23:59:59.0Z</td>\n",
       "    </tr>\n",
       "    <tr>\n",
       "      <th>1</th>\n",
       "      <td>0</td>\n",
       "      <td>90627</td>\n",
       "      <td>STATIONARY</td>\n",
       "      <td>24727.0</td>\n",
       "      <td>2021-03-24 23:17:00.0</td>\n",
       "      <td>2021-03-25 00:01:00.0</td>\n",
       "      <td>0</td>\n",
       "      <td>2040.0</td>\n",
       "      <td>T:5 Ep:10 This is Us</td>\n",
       "      <td>This_is_Us_T5_E10</td>\n",
       "      <td>De esto me encargo yo</td>\n",
       "      <td>Serie</td>\n",
       "      <td>2020.0</td>\n",
       "      <td>US</td>\n",
       "      <td>Drama/Comedia</td>\n",
       "      <td>Sociedad,Tragicómica,Adicciones,Familia,Amigos...</td>\n",
       "      <td>Beth se desenvuelve entre los escrúpulos que c...</td>\n",
       "      <td>Beth se desenvuelve entre los escrúpulos que c...</td>\n",
       "      <td>Milo Ventimiglia, Mandy Moore, , Chrissy Metz</td>\n",
       "      <td>Ken Olin</td>\n",
       "      <td>42.0</td>\n",
       "      <td>Mujeres</td>\n",
       "      <td>N</td>\n",
       "      <td>N</td>\n",
       "      <td>N</td>\n",
       "      <td>N</td>\n",
       "      <td>N</td>\n",
       "      <td>N</td>\n",
       "      <td>N</td>\n",
       "      <td>N</td>\n",
       "      <td>Y</td>\n",
       "      <td>N</td>\n",
       "      <td>2021-03-17T20:31:21.0Z</td>\n",
       "      <td>2021-03-25T23:15:49.0Z</td>\n",
       "      <td>2021-03-18T00:00:00.0Z</td>\n",
       "      <td>2021-06-30T23:59:59.0Z</td>\n",
       "    </tr>\n",
       "    <tr>\n",
       "      <th>2</th>\n",
       "      <td>1</td>\n",
       "      <td>3387</td>\n",
       "      <td>STB</td>\n",
       "      <td>895.0</td>\n",
       "      <td>2021-03-15 10:05:00.0</td>\n",
       "      <td>2021-03-15 10:23:00.0</td>\n",
       "      <td>0</td>\n",
       "      <td>1983.0</td>\n",
       "      <td>T:1 Ep:02 Big Little Lies</td>\n",
       "      <td>Big_Little_L_T1_E02</td>\n",
       "      <td>Serious Mothering</td>\n",
       "      <td>Serie</td>\n",
       "      <td>2017.0</td>\n",
       "      <td>US</td>\n",
       "      <td>Drama/Crimen</td>\n",
       "      <td>Crimen,Abusos,Mujeres,De Libros,Feminismo,Gold...</td>\n",
       "      <td>Disfrutá esta temporada sin cargo hasta el 28/...</td>\n",
       "      <td>Jane evita las preguntas de Ziggy. Madeline se...</td>\n",
       "      <td>Reese Witherspoon, Nicole Kidman, Shailene Woo...</td>\n",
       "      <td>Jean-Marc Vallée</td>\n",
       "      <td>54.0</td>\n",
       "      <td>Mujeres</td>\n",
       "      <td>N</td>\n",
       "      <td>N</td>\n",
       "      <td>N</td>\n",
       "      <td>N</td>\n",
       "      <td>N</td>\n",
       "      <td>N</td>\n",
       "      <td>N</td>\n",
       "      <td>N</td>\n",
       "      <td>N</td>\n",
       "      <td>N</td>\n",
       "      <td>2021-03-05T18:37:58.0Z</td>\n",
       "      <td>2021-03-08T02:06:03.0Z</td>\n",
       "      <td>2021-03-08T00:00:00.0Z</td>\n",
       "      <td>2021-03-28T23:59:00.0Z</td>\n",
       "    </tr>\n",
       "    <tr>\n",
       "      <th>3</th>\n",
       "      <td>1</td>\n",
       "      <td>3387</td>\n",
       "      <td>STB</td>\n",
       "      <td>895.0</td>\n",
       "      <td>2021-03-15 10:23:00.0</td>\n",
       "      <td>2021-03-15 11:18:00.0</td>\n",
       "      <td>1</td>\n",
       "      <td>1983.0</td>\n",
       "      <td>T:1 Ep:02 Big Little Lies</td>\n",
       "      <td>Big_Little_L_T1_E02</td>\n",
       "      <td>Serious Mothering</td>\n",
       "      <td>Serie</td>\n",
       "      <td>2017.0</td>\n",
       "      <td>US</td>\n",
       "      <td>Drama/Crimen</td>\n",
       "      <td>Crimen,Abusos,Mujeres,De Libros,Feminismo,Gold...</td>\n",
       "      <td>Disfrutá esta temporada sin cargo hasta el 28/...</td>\n",
       "      <td>Jane evita las preguntas de Ziggy. Madeline se...</td>\n",
       "      <td>Reese Witherspoon, Nicole Kidman, Shailene Woo...</td>\n",
       "      <td>Jean-Marc Vallée</td>\n",
       "      <td>54.0</td>\n",
       "      <td>Mujeres</td>\n",
       "      <td>N</td>\n",
       "      <td>N</td>\n",
       "      <td>N</td>\n",
       "      <td>N</td>\n",
       "      <td>N</td>\n",
       "      <td>N</td>\n",
       "      <td>N</td>\n",
       "      <td>N</td>\n",
       "      <td>N</td>\n",
       "      <td>N</td>\n",
       "      <td>2021-03-05T18:37:58.0Z</td>\n",
       "      <td>2021-03-08T02:06:03.0Z</td>\n",
       "      <td>2021-03-08T00:00:00.0Z</td>\n",
       "      <td>2021-03-28T23:59:00.0Z</td>\n",
       "    </tr>\n",
       "    <tr>\n",
       "      <th>4</th>\n",
       "      <td>1</td>\n",
       "      <td>3387</td>\n",
       "      <td>STB</td>\n",
       "      <td>26062.0</td>\n",
       "      <td>2021-03-16 09:24:00.0</td>\n",
       "      <td>2021-03-16 09:44:00.0</td>\n",
       "      <td>0</td>\n",
       "      <td>729.0</td>\n",
       "      <td>T:1 Ep:02 Dime quién soy</td>\n",
       "      <td>Dime_quien_s_T1_E02</td>\n",
       "      <td>Capítulo 2: Pierre</td>\n",
       "      <td>Serie</td>\n",
       "      <td>2020.0</td>\n",
       "      <td>ES</td>\n",
       "      <td>Drama</td>\n",
       "      <td>30s,Espionaje,Historia,Europa</td>\n",
       "      <td>Disfrutá esta temporada sin cargo hasta el 28/...</td>\n",
       "      <td>Buenos Aires, 1936. Con la ayuda de la estrell...</td>\n",
       "      <td>Irene Escolar, María Pía Calzone, Pablo Derqui...</td>\n",
       "      <td>Eduard Cortés</td>\n",
       "      <td>49.0</td>\n",
       "      <td>General</td>\n",
       "      <td>N</td>\n",
       "      <td>N</td>\n",
       "      <td>N</td>\n",
       "      <td>N</td>\n",
       "      <td>N</td>\n",
       "      <td>N</td>\n",
       "      <td>N</td>\n",
       "      <td>N</td>\n",
       "      <td>N</td>\n",
       "      <td>N</td>\n",
       "      <td>2021-03-06T13:47:10.0Z</td>\n",
       "      <td>2021-03-08T02:06:06.0Z</td>\n",
       "      <td>2021-03-08T00:00:00.0Z</td>\n",
       "      <td>2021-03-28T23:59:00.0Z</td>\n",
       "    </tr>\n",
       "  </tbody>\n",
       "</table>\n",
       "</div>"
      ],
      "text/plain": [
       "   customer_id  account_id  ...          start_vod_date            end_vod_date\n",
       "0            0       90627  ...  2021-02-18T00:00:00.0Z  2021-06-30T23:59:59.0Z\n",
       "1            0       90627  ...  2021-03-18T00:00:00.0Z  2021-06-30T23:59:59.0Z\n",
       "2            1        3387  ...  2021-03-08T00:00:00.0Z  2021-03-28T23:59:00.0Z\n",
       "3            1        3387  ...  2021-03-08T00:00:00.0Z  2021-03-28T23:59:00.0Z\n",
       "4            1        3387  ...  2021-03-08T00:00:00.0Z  2021-03-28T23:59:00.0Z\n",
       "\n",
       "[5 rows x 36 columns]"
      ]
     },
     "execution_count": 4,
     "metadata": {},
     "output_type": "execute_result"
    }
   ],
   "source": [
    "df = data.join(meta_data.set_index('asset_id'), on='asset_id')\n",
    "pd.options.display.max_columns = 0\n",
    "df.head()"
   ]
  },
  {
   "cell_type": "code",
   "execution_count": 5,
   "metadata": {},
   "outputs": [
    {
     "data": {
      "text/plain": [
       "(3657801, 36)"
      ]
     },
     "execution_count": 5,
     "metadata": {},
     "output_type": "execute_result"
    }
   ],
   "source": [
    "df.shape"
   ]
  },
  {
   "cell_type": "markdown",
   "metadata": {},
   "source": [
    "**¡Nuestro dataframe es muy grande!**"
   ]
  },
  {
   "cell_type": "markdown",
   "metadata": {},
   "source": [
    "<a id=\"Data_wrangling\"></a> \n",
    "### 4. Data wrangling\n"
   ]
  },
  {
   "cell_type": "markdown",
   "metadata": {},
   "source": [
    "En este paso buscamos obtener un dataframe limpio y consistente para poder correr el modelo.<br>\n",
    "Para ello se realizaran los siguientes pasos:<br>\n",
    "<ul>\n",
    "    <li>Data cleaning</li>\n",
    "    <li>EDA</li>\n",
    "    <li>Feature engineering</li>\n",
    "    <li>Feature selection</li>\n",
    "</ul>"
   ]
  },
  {
   "cell_type": "markdown",
   "metadata": {},
   "source": [
    "**Data cleaning**"
   ]
  },
  {
   "cell_type": "code",
   "execution_count": 6,
   "metadata": {},
   "outputs": [
    {
     "name": "stdout",
     "output_type": "stream",
     "text": [
      "<class 'pandas.core.frame.DataFrame'>\n",
      "RangeIndex: 3657801 entries, 0 to 3657800\n",
      "Data columns (total 36 columns):\n",
      " #   Column              Dtype  \n",
      "---  ------              -----  \n",
      " 0   customer_id         int64  \n",
      " 1   account_id          int64  \n",
      " 2   device_type         object \n",
      " 3   asset_id            float64\n",
      " 4   tunein              object \n",
      " 5   tuneout             object \n",
      " 6   resume              int64  \n",
      " 7   content_id          float64\n",
      " 8   title               object \n",
      " 9   reduced_title       object \n",
      " 10  episode_title       object \n",
      " 11  show_type           object \n",
      " 12  released_year       float64\n",
      " 13  country_of_origin   object \n",
      " 14  category            object \n",
      " 15  keywords            object \n",
      " 16  description         object \n",
      " 17  reduced_desc        object \n",
      " 18  cast_first_name     object \n",
      " 19  credits_first_name  object \n",
      " 20  run_time_min        float64\n",
      " 21  audience            object \n",
      " 22  made_for_tv         object \n",
      " 23  close_caption       object \n",
      " 24  sex_rating          object \n",
      " 25  violence_rating     object \n",
      " 26  language_rating     object \n",
      " 27  dialog_rating       object \n",
      " 28  fv_rating           object \n",
      " 29  pay_per_view        object \n",
      " 30  pack_premium_1      object \n",
      " 31  pack_premium_2      object \n",
      " 32  create_date         object \n",
      " 33  modify_date         object \n",
      " 34  start_vod_date      object \n",
      " 35  end_vod_date        object \n",
      "dtypes: float64(4), int64(3), object(29)\n",
      "memory usage: 1004.6+ MB\n"
     ]
    }
   ],
   "source": [
    "df.info()"
   ]
  },
  {
   "cell_type": "code",
   "execution_count": 7,
   "metadata": {},
   "outputs": [
    {
     "data": {
      "text/plain": [
       "customer_id                 0\n",
       "account_id                  0\n",
       "device_type                29\n",
       "asset_id                   22\n",
       "tunein                      0\n",
       "tuneout                     0\n",
       "resume                      0\n",
       "content_id                142\n",
       "title                      22\n",
       "reduced_title              22\n",
       "episode_title          885156\n",
       "show_type                  35\n",
       "released_year              22\n",
       "country_of_origin          40\n",
       "category                   22\n",
       "keywords                  442\n",
       "description                42\n",
       "reduced_desc               22\n",
       "cast_first_name       1016037\n",
       "credits_first_name     842844\n",
       "run_time_min               22\n",
       "audience                  131\n",
       "made_for_tv                22\n",
       "close_caption              22\n",
       "sex_rating                 22\n",
       "violence_rating            22\n",
       "language_rating            22\n",
       "dialog_rating              22\n",
       "fv_rating                  22\n",
       "pay_per_view               22\n",
       "pack_premium_1             22\n",
       "pack_premium_2             22\n",
       "create_date                22\n",
       "modify_date                22\n",
       "start_vod_date             22\n",
       "end_vod_date               22\n",
       "dtype: int64"
      ]
     },
     "execution_count": 7,
     "metadata": {},
     "output_type": "execute_result"
    }
   ],
   "source": [
    "df.isnull().sum()"
   ]
  },
  {
   "cell_type": "markdown",
   "metadata": {},
   "source": [
    "**content_id nulls:** al ser esta variable el targer a recomendar, analizamos primero sus nulls y vemos que corresponden con contenido de \"tutoriales\" sobre el uso de la plataforma. Entonces se decide eliminar estas filas."
   ]
  },
  {
   "cell_type": "code",
   "execution_count": 8,
   "metadata": {},
   "outputs": [
    {
     "data": {
      "text/plain": [
       "array(['Tutoriales/Decodificador Flow', nan], dtype=object)"
      ]
     },
     "execution_count": 8,
     "metadata": {},
     "output_type": "execute_result"
    }
   ],
   "source": [
    "df[df['content_id'].isnull()]['category'].unique()"
   ]
  },
  {
   "cell_type": "code",
   "execution_count": 9,
   "metadata": {},
   "outputs": [],
   "source": [
    "df = df.dropna(subset=['content_id'])"
   ]
  },
  {
   "cell_type": "markdown",
   "metadata": {},
   "source": [
    "**cast_first_name null:** esta es la variable con mayor cantidad de nulls, 28% de valores faltantes. Veremos el contenido de estas filas y tomaremos una decisión.\n",
    "Vemos que en su mayoria se tratan de documentales o dibujos infantiles donde claramente no hay un autor para mencionar.\n",
    "Se decide elimar esta columna."
   ]
  },
  {
   "cell_type": "code",
   "execution_count": 10,
   "metadata": {},
   "outputs": [
    {
     "data": {
      "text/plain": [
       "array(['Drama/Comedia', 'Reality', 'Infantil/Dibujos Animados',\n",
       "       'Infantil/Animación', 'Documental', 'Documental/Viajes', 'Comedia',\n",
       "       'Reality/Crimen', 'Documental/Religión', 'Documental/Naturaleza',\n",
       "       'Documental/Historia', 'Drama', 'Aventura/Animación',\n",
       "       'Entretenimiento/Música', 'Entretenimiento/Espectáculo',\n",
       "       'Documental/Cultura', 'Documental/Crimen', 'Documental/Reality',\n",
       "       'Infantil', 'Infantil/Aventura', 'Acción/Terror',\n",
       "       'Reality/Documental', 'Documental/Biografía', 'Drama/Suspenso',\n",
       "       'Entretenimiento/Restauración', 'Reality/Restauración',\n",
       "       'Ciencia Ficción/Drama', 'Animación/Infantil', 'Acción/Suspenso',\n",
       "       'Documental/Animales', 'Música/Entretenimiento',\n",
       "       'Comedia/Animación', 'Reality/Naturaleza', 'Documental/Bélico',\n",
       "       'Documental/Música', 'Reality/Cocina', 'Reality/Competencia',\n",
       "       'Documental/Animación', 'Infantil/Comedia', 'Comedia/Infantil',\n",
       "       'Comedia/Romance', 'Reality/Animales', 'Entretenimiento/Deporte',\n",
       "       'Documental/Ciencia', 'Entretenimiento/Cocina',\n",
       "       'Documental/Deporte', 'Drama/Bélico', 'Romance',\n",
       "       'Infantil/Familiar', 'Entretenimiento/Competencia',\n",
       "       'Aventura/Fantasía', 'Animación/Aventura', 'Infantil/Musical',\n",
       "       'Documental/Político', 'Acción/Animación', 'Entretenimiento/Moda',\n",
       "       'Entretenimiento/Comedia', 'Entretenimiento', 'Drama/Romance',\n",
       "       'Acción/Aventura', 'Drama/Animación', 'Reality/Cultura',\n",
       "       'Infantil/Dibujos animados', 'Música/Animación', 'Moda/Reality',\n",
       "       'Suspenso/Drama', 'Animación/Acción', 'Animación/Fantasía',\n",
       "       'Aventura/Comedia', 'Deporte', 'Drama/Crimen', 'Teatro',\n",
       "       'Comedia/Familiar', 'Drama/Fantasía', 'Documental/Drama',\n",
       "       'Musical/Teatro', 'Musical', 'Familiar/Drama'], dtype=object)"
      ]
     },
     "execution_count": 10,
     "metadata": {},
     "output_type": "execute_result"
    }
   ],
   "source": [
    "df[df['cast_first_name'].isnull()]['category'].unique()"
   ]
  },
  {
   "cell_type": "code",
   "execution_count": 11,
   "metadata": {},
   "outputs": [],
   "source": [
    "df = df.drop(columns = 'cast_first_name')"
   ]
  },
  {
   "cell_type": "markdown",
   "metadata": {},
   "source": [
    "**credits_first_name nulls:** seguramente relacionada a la columna anterior. Tiene un 23% de nulos.\n",
    "La revisamos y luego tomamos la decisión de eliminar la columna."
   ]
  },
  {
   "cell_type": "code",
   "execution_count": 12,
   "metadata": {},
   "outputs": [
    {
     "data": {
      "text/plain": [
       "array(['Drama', 'Terror', 'Drama/Romance', 'Reality',\n",
       "       'Infantil/Dibujos Animados', 'Documental/Viajes',\n",
       "       'Infantil/Comedia', 'Drama/Crimen', 'Entretenimiento/Restauración',\n",
       "       'Reality/Moda', 'Entretenimiento/Cocina', 'Documental/Biografía',\n",
       "       'Comedia', 'Reality/Cocina', 'Documental', 'Documental/Naturaleza',\n",
       "       'Reality/Música', 'Entretenimiento/Música',\n",
       "       'Entretenimiento/Espectáculo', 'Drama/Comedia',\n",
       "       'Documental/Cultura', 'Acción/Crimen', 'Acción',\n",
       "       'Documental/Crimen', 'Aventura/Fantasía',\n",
       "       'Interés General/Deporte', 'Comedia/Familiar', 'Drama/Acción',\n",
       "       'Reality/Crimen', 'Infantil/Animación', 'Infantil',\n",
       "       'Entretenimiento/Competencia', 'Acción/Aventura', 'Drama/Fantasía',\n",
       "       'Reality/Documental', 'Aventura/Familiar', 'Drama/Suspenso',\n",
       "       'Entretenimiento/Moda', 'Magazine/Espectáculo',\n",
       "       'Documental/Religión', 'Música/Documental', 'Western/Crimen',\n",
       "       'Drama/Historia', 'Ciencia Ficción/Drama', 'Entretenimiento',\n",
       "       'Documental/Deporte', 'Terror/Comedia', 'Drama/Bélico',\n",
       "       'Drama/Policial', 'Documental/Historia', 'Comedia/Drama',\n",
       "       'Música/Entretenimiento', 'Reality/Naturaleza', 'Acción/Terror',\n",
       "       'Entretenimiento/Viajes', 'Documental/Música',\n",
       "       'Reality/Competencia', 'Entretenimiento/Comedia',\n",
       "       'Comedia/Infantil', 'Comedia/Romance', 'Reality/Animales',\n",
       "       'Interés General/Periodístico', 'Documental/Ciencia',\n",
       "       'Acción/Ciencia Ficción', 'Romance', 'Documental/Animales',\n",
       "       'Interés General/Espectáculo', 'Acción/Drama', 'Comedia/Aventura',\n",
       "       'Infantil/Musical', 'Interés General/Viajes', 'Comedia/Animación',\n",
       "       'Música', 'Drama/Biografía', 'Moda/Reality',\n",
       "       'Interés General/Entrevistas', 'Interés General',\n",
       "       'Entretenimiento/Entrevistas', 'Documental/Terror', 'Suspenso',\n",
       "       'Reality/Espectáculo', 'Interés General/Naturaleza',\n",
       "       'Romance/Comedia', 'Suspenso/Drama', 'Documental/Político',\n",
       "       'Animación/Fantasía', 'Deporte', 'Ciencia Ficción/Acción',\n",
       "       'Teatro', 'Interés General/Música', 'Drama/Ciencia Ficción',\n",
       "       'Musical/Teatro', 'Musical', 'Moda/Entretenimiento',\n",
       "       'Familiar/Drama'], dtype=object)"
      ]
     },
     "execution_count": 12,
     "metadata": {},
     "output_type": "execute_result"
    }
   ],
   "source": [
    "df[df['credits_first_name'].isnull()]['category'].unique()"
   ]
  },
  {
   "cell_type": "code",
   "execution_count": 13,
   "metadata": {},
   "outputs": [],
   "source": [
    "df = df.drop(columns = 'credits_first_name')"
   ]
  },
  {
   "cell_type": "markdown",
   "metadata": {},
   "source": [
    "**episode_title nulls:** es la tercer variable con mayor cantidad de nulos ( 24% ). La revisamos y se decise eliminar la columna ya que este dato corresponde a series y nuestro recomendador no debe incluir capitulos de la misma serie ya vista."
   ]
  },
  {
   "cell_type": "code",
   "execution_count": 14,
   "metadata": {},
   "outputs": [
    {
     "data": {
      "text/plain": [
       "array(['Película', 'TV', 'Gaming', nan], dtype=object)"
      ]
     },
     "execution_count": 14,
     "metadata": {},
     "output_type": "execute_result"
    }
   ],
   "source": [
    "df[df['episode_title'].isnull()]['show_type'].unique()"
   ]
  },
  {
   "cell_type": "code",
   "execution_count": 15,
   "metadata": {},
   "outputs": [],
   "source": [
    "df = df.drop(columns = 'episode_title')"
   ]
  },
  {
   "cell_type": "markdown",
   "metadata": {},
   "source": [
    "El resto de los nulos son muy pocos, entonces los eliminamos"
   ]
  },
  {
   "cell_type": "code",
   "execution_count": 16,
   "metadata": {},
   "outputs": [],
   "source": [
    "df = df.dropna()"
   ]
  },
  {
   "cell_type": "code",
   "execution_count": 17,
   "metadata": {},
   "outputs": [
    {
     "data": {
      "text/plain": [
       "customer_id          0\n",
       "account_id           0\n",
       "device_type          0\n",
       "asset_id             0\n",
       "tunein               0\n",
       "tuneout              0\n",
       "resume               0\n",
       "content_id           0\n",
       "title                0\n",
       "reduced_title        0\n",
       "show_type            0\n",
       "released_year        0\n",
       "country_of_origin    0\n",
       "category             0\n",
       "keywords             0\n",
       "description          0\n",
       "reduced_desc         0\n",
       "run_time_min         0\n",
       "audience             0\n",
       "made_for_tv          0\n",
       "close_caption        0\n",
       "sex_rating           0\n",
       "violence_rating      0\n",
       "language_rating      0\n",
       "dialog_rating        0\n",
       "fv_rating            0\n",
       "pay_per_view         0\n",
       "pack_premium_1       0\n",
       "pack_premium_2       0\n",
       "create_date          0\n",
       "modify_date          0\n",
       "start_vod_date       0\n",
       "end_vod_date         0\n",
       "dtype: int64"
      ]
     },
     "execution_count": 17,
     "metadata": {},
     "output_type": "execute_result"
    }
   ],
   "source": [
    "df.isnull().sum()"
   ]
  },
  {
   "cell_type": "markdown",
   "metadata": {},
   "source": [
    "**Duplicados**"
   ]
  },
  {
   "cell_type": "code",
   "execution_count": 18,
   "metadata": {},
   "outputs": [],
   "source": [
    "df = df.drop_duplicates(subset=None,keep='first',inplace=False,ignore_index=False)"
   ]
  },
  {
   "cell_type": "markdown",
   "metadata": {},
   "source": [
    "**EDA**"
   ]
  },
  {
   "cell_type": "markdown",
   "metadata": {},
   "source": [
    "**Histogramas**"
   ]
  },
  {
   "cell_type": "code",
   "execution_count": 19,
   "metadata": {},
   "outputs": [],
   "source": [
    "columns = df.columns\n",
    "\n",
    "#for c in columns:\n",
    "    #if df[c].dtype == 'int64' or df[c].dtype == 'float64':\n",
    "        #counts, bins = np.histogram(df[c])\n",
    "        #plt.hist(bins[:-1],bins, weights=counts)\n",
    "        #plt.title(f'Distribución: {c}')\n",
    "        #plt.show()\n",
    "    #else:\n",
    "        #continue\n",
    "    "
   ]
  },
  {
   "cell_type": "markdown",
   "metadata": {},
   "source": [
    "**Bar chart**"
   ]
  },
  {
   "cell_type": "code",
   "execution_count": 20,
   "metadata": {},
   "outputs": [],
   "source": [
    "#for c in columns:\n",
    "    #try:\n",
    "        #fig, axs = plt.subplots(1,figsize=(9, 3))\n",
    "        #axs.bar(df[c].unique(), height = df[c].value_counts())\n",
    "        #fig.suprtitle(f'Distribución:{c}')\n",
    "        #plt.rcParams.update({'figure.max_open_warning': 0})\n",
    "    #except:\n",
    "        #print(f'{c} no se pudo procesar')"
   ]
  },
  {
   "cell_type": "markdown",
   "metadata": {},
   "source": [
    "**Boxplot**"
   ]
  },
  {
   "cell_type": "code",
   "execution_count": 21,
   "metadata": {},
   "outputs": [],
   "source": [
    "#for c in columns:\n",
    "    #try:\n",
    "        #plt.figure(figsize=(14,4))\n",
    "        #sns.boxplot(x=df[c], y=df[c],palette= \"Set2\").set_title(f'Asset_id vs {c}')\n",
    "    #except:\n",
    "        #print(f'{c} no se pudo procesar')"
   ]
  },
  {
   "cell_type": "markdown",
   "metadata": {},
   "source": [
    "**Ranking**"
   ]
  },
  {
   "cell_type": "code",
   "execution_count": 22,
   "metadata": {},
   "outputs": [
    {
     "name": "stdout",
     "output_type": "stream",
     "text": [
      "Top 20: Títulos\n",
      "---------------\n"
     ]
    },
    {
     "data": {
      "text/plain": [
       "T:7 Ep:44 Peppa Pig          13466\n",
       "Cosa de minas                12279\n",
       "T:1 Ep:01 El nudo             9941\n",
       "T:5 Ep:05 This is Us          9692\n",
       "T:5 Ep:06 This is Us          9385\n",
       "T:1 Ep:01 The Collapse        8966\n",
       "T:5 Ep:09 This is Us          8692\n",
       "T:5 Ep:07 This is Us          8667\n",
       "T:5 Ep:08 This is Us          7966\n",
       "T:1 Ep:01 Big Little Lies     7149\n",
       "T:1 Ep:02 El nudo             7102\n",
       "3 metros sobre el cielo       6676\n",
       "T:5 Ep:10 This is Us          6545\n",
       "T:1 Ep:03 El nudo             6502\n",
       "T:7 Ep:28 Peppa Pig           6170\n",
       "T:1 Ep:04 El nudo             6160\n",
       "Fuga de pretoria              6140\n",
       "T:1 Ep:02 The Collapse        6132\n",
       "T:1 Ep:01 Dime quién soy      5789\n",
       "T:1 Ep:06 El nudo             5550\n",
       "Name: title, dtype: int64"
      ]
     },
     "execution_count": 22,
     "metadata": {},
     "output_type": "execute_result"
    }
   ],
   "source": [
    "print(\"Top 20: Títulos\")\n",
    "print(\"---------------\")\n",
    "df['title'].value_counts().head(20)"
   ]
  },
  {
   "cell_type": "code",
   "execution_count": 23,
   "metadata": {},
   "outputs": [
    {
     "name": "stdout",
     "output_type": "stream",
     "text": [
      "Top 20: Show_type\n",
      "-----------------\n"
     ]
    },
    {
     "data": {
      "text/plain": [
       "Serie           1549966\n",
       "TV              1178065\n",
       "Película         867070\n",
       "Web               32706\n",
       "Rolling           26273\n",
       "Gaming             2878\n",
       "Series,Serie         54\n",
       "Name: show_type, dtype: int64"
      ]
     },
     "execution_count": 23,
     "metadata": {},
     "output_type": "execute_result"
    }
   ],
   "source": [
    "print(\"Top 20: Show_type\")\n",
    "print(\"-----------------\")\n",
    "df['show_type'].value_counts().head(20)"
   ]
  },
  {
   "cell_type": "code",
   "execution_count": 24,
   "metadata": {},
   "outputs": [
    {
     "name": "stdout",
     "output_type": "stream",
     "text": [
      "Top 20: Categorías\n",
      "------------------\n"
     ]
    },
    {
     "data": {
      "text/plain": [
       "Infantil/Dibujos Animados    791790\n",
       "Drama                        353797\n",
       "Drama/Romance                296431\n",
       "Drama/Comedia                211029\n",
       "Drama/Crimen                 208368\n",
       "Drama/Suspenso               146120\n",
       "Comedia/Romance              136163\n",
       "Infantil/Animación           113174\n",
       "Comedia                      107923\n",
       "Infantil/Comedia              99868\n",
       "Acción/Drama                  77006\n",
       "Acción/Crimen                 72761\n",
       "Drama/Acción                  72248\n",
       "Comedia/Drama                 64541\n",
       "Aventura/Fantasía             50678\n",
       "Comedia/Infantil              40473\n",
       "Comedia/Familiar              39697\n",
       "Infantil                      34829\n",
       "Crimen/Drama                  31484\n",
       "Reality/Cocina                30347\n",
       "Name: category, dtype: int64"
      ]
     },
     "execution_count": 24,
     "metadata": {},
     "output_type": "execute_result"
    }
   ],
   "source": [
    "print(\"Top 20: Categorías\")\n",
    "print(\"------------------\")\n",
    "df['category'].value_counts().head(20)"
   ]
  },
  {
   "cell_type": "code",
   "execution_count": 36,
   "metadata": {},
   "outputs": [
    {
     "ename": "ValueError",
     "evalue": "Boolean array expected for the condition, not object",
     "output_type": "error",
     "traceback": [
      "\u001b[0;31m---------------------------------------------------------------------------\u001b[0m",
      "\u001b[0;31mValueError\u001b[0m                                Traceback (most recent call last)",
      "\u001b[0;32m<ipython-input-36-be1656a13437>\u001b[0m in \u001b[0;36m<module>\u001b[0;34m()\u001b[0m\n\u001b[1;32m      7\u001b[0m \u001b[0;34m\u001b[0m\u001b[0m\n\u001b[1;32m      8\u001b[0m \u001b[0;32mfor\u001b[0m \u001b[0mml\u001b[0m \u001b[0;32min\u001b[0m \u001b[0mmask_lista\u001b[0m\u001b[0;34m:\u001b[0m\u001b[0;34m\u001b[0m\u001b[0;34m\u001b[0m\u001b[0m\n\u001b[0;32m----> 9\u001b[0;31m     \u001b[0mpd\u001b[0m\u001b[0;34m.\u001b[0m\u001b[0mDataFrame\u001b[0m\u001b[0;34m(\u001b[0m\u001b[0mdf\u001b[0m\u001b[0;34m[\u001b[0m\u001b[0mml\u001b[0m\u001b[0;34m]\u001b[0m\u001b[0;34m)\u001b[0m\u001b[0;34m.\u001b[0m\u001b[0mto_csv\u001b[0m\u001b[0;34m(\u001b[0m\u001b[0;34mf'/datathonTelecom/Data/{l}.csv'\u001b[0m\u001b[0;34m)\u001b[0m\u001b[0;34m\u001b[0m\u001b[0;34m\u001b[0m\u001b[0m\n\u001b[0m",
      "\u001b[0;32m/home/miriam/anaconda3/envs/dsdhblend/lib/python3.7/site-packages/pandas/core/frame.py\u001b[0m in \u001b[0;36m__getitem__\u001b[0;34m(self, key)\u001b[0m\n\u001b[1;32m   3440\u001b[0m         \u001b[0;31m# Do we have a (boolean) DataFrame?\u001b[0m\u001b[0;34m\u001b[0m\u001b[0;34m\u001b[0m\u001b[0;34m\u001b[0m\u001b[0m\n\u001b[1;32m   3441\u001b[0m         \u001b[0;32mif\u001b[0m \u001b[0misinstance\u001b[0m\u001b[0;34m(\u001b[0m\u001b[0mkey\u001b[0m\u001b[0;34m,\u001b[0m \u001b[0mDataFrame\u001b[0m\u001b[0;34m)\u001b[0m\u001b[0;34m:\u001b[0m\u001b[0;34m\u001b[0m\u001b[0;34m\u001b[0m\u001b[0m\n\u001b[0;32m-> 3442\u001b[0;31m             \u001b[0;32mreturn\u001b[0m \u001b[0mself\u001b[0m\u001b[0;34m.\u001b[0m\u001b[0mwhere\u001b[0m\u001b[0;34m(\u001b[0m\u001b[0mkey\u001b[0m\u001b[0;34m)\u001b[0m\u001b[0;34m\u001b[0m\u001b[0;34m\u001b[0m\u001b[0m\n\u001b[0m\u001b[1;32m   3443\u001b[0m \u001b[0;34m\u001b[0m\u001b[0m\n\u001b[1;32m   3444\u001b[0m         \u001b[0;31m# Do we have a (boolean) 1d indexer?\u001b[0m\u001b[0;34m\u001b[0m\u001b[0;34m\u001b[0m\u001b[0;34m\u001b[0m\u001b[0m\n",
      "\u001b[0;32m/home/miriam/anaconda3/envs/dsdhblend/lib/python3.7/site-packages/pandas/util/_decorators.py\u001b[0m in \u001b[0;36mwrapper\u001b[0;34m(*args, **kwargs)\u001b[0m\n\u001b[1;32m    309\u001b[0m                     \u001b[0mstacklevel\u001b[0m\u001b[0;34m=\u001b[0m\u001b[0mstacklevel\u001b[0m\u001b[0;34m,\u001b[0m\u001b[0;34m\u001b[0m\u001b[0;34m\u001b[0m\u001b[0m\n\u001b[1;32m    310\u001b[0m                 )\n\u001b[0;32m--> 311\u001b[0;31m             \u001b[0;32mreturn\u001b[0m \u001b[0mfunc\u001b[0m\u001b[0;34m(\u001b[0m\u001b[0;34m*\u001b[0m\u001b[0margs\u001b[0m\u001b[0;34m,\u001b[0m \u001b[0;34m**\u001b[0m\u001b[0mkwargs\u001b[0m\u001b[0;34m)\u001b[0m\u001b[0;34m\u001b[0m\u001b[0;34m\u001b[0m\u001b[0m\n\u001b[0m\u001b[1;32m    312\u001b[0m \u001b[0;34m\u001b[0m\u001b[0m\n\u001b[1;32m    313\u001b[0m         \u001b[0;32mreturn\u001b[0m \u001b[0mwrapper\u001b[0m\u001b[0;34m\u001b[0m\u001b[0;34m\u001b[0m\u001b[0m\n",
      "\u001b[0;32m/home/miriam/anaconda3/envs/dsdhblend/lib/python3.7/site-packages/pandas/core/frame.py\u001b[0m in \u001b[0;36mwhere\u001b[0;34m(self, cond, other, inplace, axis, level, errors, try_cast)\u001b[0m\n\u001b[1;32m  10731\u001b[0m         \u001b[0mtry_cast\u001b[0m\u001b[0;34m=\u001b[0m\u001b[0mlib\u001b[0m\u001b[0;34m.\u001b[0m\u001b[0mno_default\u001b[0m\u001b[0;34m,\u001b[0m\u001b[0;34m\u001b[0m\u001b[0;34m\u001b[0m\u001b[0m\n\u001b[1;32m  10732\u001b[0m     ):\n\u001b[0;32m> 10733\u001b[0;31m         \u001b[0;32mreturn\u001b[0m \u001b[0msuper\u001b[0m\u001b[0;34m(\u001b[0m\u001b[0;34m)\u001b[0m\u001b[0;34m.\u001b[0m\u001b[0mwhere\u001b[0m\u001b[0;34m(\u001b[0m\u001b[0mcond\u001b[0m\u001b[0;34m,\u001b[0m \u001b[0mother\u001b[0m\u001b[0;34m,\u001b[0m \u001b[0minplace\u001b[0m\u001b[0;34m,\u001b[0m \u001b[0maxis\u001b[0m\u001b[0;34m,\u001b[0m \u001b[0mlevel\u001b[0m\u001b[0;34m,\u001b[0m \u001b[0merrors\u001b[0m\u001b[0;34m,\u001b[0m \u001b[0mtry_cast\u001b[0m\u001b[0;34m)\u001b[0m\u001b[0;34m\u001b[0m\u001b[0;34m\u001b[0m\u001b[0m\n\u001b[0m\u001b[1;32m  10734\u001b[0m \u001b[0;34m\u001b[0m\u001b[0m\n\u001b[1;32m  10735\u001b[0m     @deprecate_nonkeyword_arguments(\n",
      "\u001b[0;32m/home/miriam/anaconda3/envs/dsdhblend/lib/python3.7/site-packages/pandas/core/generic.py\u001b[0m in \u001b[0;36mwhere\u001b[0;34m(self, cond, other, inplace, axis, level, errors, try_cast)\u001b[0m\n\u001b[1;32m   9021\u001b[0m             )\n\u001b[1;32m   9022\u001b[0m \u001b[0;34m\u001b[0m\u001b[0m\n\u001b[0;32m-> 9023\u001b[0;31m         \u001b[0;32mreturn\u001b[0m \u001b[0mself\u001b[0m\u001b[0;34m.\u001b[0m\u001b[0m_where\u001b[0m\u001b[0;34m(\u001b[0m\u001b[0mcond\u001b[0m\u001b[0;34m,\u001b[0m \u001b[0mother\u001b[0m\u001b[0;34m,\u001b[0m \u001b[0minplace\u001b[0m\u001b[0;34m,\u001b[0m \u001b[0maxis\u001b[0m\u001b[0;34m,\u001b[0m \u001b[0mlevel\u001b[0m\u001b[0;34m,\u001b[0m \u001b[0merrors\u001b[0m\u001b[0;34m=\u001b[0m\u001b[0merrors\u001b[0m\u001b[0;34m)\u001b[0m\u001b[0;34m\u001b[0m\u001b[0;34m\u001b[0m\u001b[0m\n\u001b[0m\u001b[1;32m   9024\u001b[0m \u001b[0;34m\u001b[0m\u001b[0m\n\u001b[1;32m   9025\u001b[0m     \u001b[0;34m@\u001b[0m\u001b[0mfinal\u001b[0m\u001b[0;34m\u001b[0m\u001b[0;34m\u001b[0m\u001b[0m\n",
      "\u001b[0;32m/home/miriam/anaconda3/envs/dsdhblend/lib/python3.7/site-packages/pandas/core/generic.py\u001b[0m in \u001b[0;36m_where\u001b[0;34m(self, cond, other, inplace, axis, level, errors)\u001b[0m\n\u001b[1;32m   8777\u001b[0m                 \u001b[0;32mfor\u001b[0m \u001b[0mdt\u001b[0m \u001b[0;32min\u001b[0m \u001b[0mcond\u001b[0m\u001b[0;34m.\u001b[0m\u001b[0mdtypes\u001b[0m\u001b[0;34m:\u001b[0m\u001b[0;34m\u001b[0m\u001b[0;34m\u001b[0m\u001b[0m\n\u001b[1;32m   8778\u001b[0m                     \u001b[0;32mif\u001b[0m \u001b[0;32mnot\u001b[0m \u001b[0mis_bool_dtype\u001b[0m\u001b[0;34m(\u001b[0m\u001b[0mdt\u001b[0m\u001b[0;34m)\u001b[0m\u001b[0;34m:\u001b[0m\u001b[0;34m\u001b[0m\u001b[0;34m\u001b[0m\u001b[0m\n\u001b[0;32m-> 8779\u001b[0;31m                         \u001b[0;32mraise\u001b[0m \u001b[0mValueError\u001b[0m\u001b[0;34m(\u001b[0m\u001b[0mmsg\u001b[0m\u001b[0;34m.\u001b[0m\u001b[0mformat\u001b[0m\u001b[0;34m(\u001b[0m\u001b[0mdtype\u001b[0m\u001b[0;34m=\u001b[0m\u001b[0mdt\u001b[0m\u001b[0;34m)\u001b[0m\u001b[0;34m)\u001b[0m\u001b[0;34m\u001b[0m\u001b[0;34m\u001b[0m\u001b[0m\n\u001b[0m\u001b[1;32m   8780\u001b[0m         \u001b[0;32melse\u001b[0m\u001b[0;34m:\u001b[0m\u001b[0;34m\u001b[0m\u001b[0;34m\u001b[0m\u001b[0m\n\u001b[1;32m   8781\u001b[0m             \u001b[0;31m# GH#21947 we have an empty DataFrame/Series, could be object-dtype\u001b[0m\u001b[0;34m\u001b[0m\u001b[0;34m\u001b[0m\u001b[0;34m\u001b[0m\u001b[0m\n",
      "\u001b[0;31mValueError\u001b[0m: Boolean array expected for the condition, not object"
     ]
    }
   ],
   "source": [
    "lista = df['show_type'].unique()\n",
    "mask_lista = []\n",
    "\n",
    "for l in lista:\n",
    "    mask = df['show_type'] == l\n",
    "    mask_lista.append(df[mask])\n",
    "\n",
    "for ml in mask_lista:\n",
    "    pd.DataFrame(df[ml]).to_csv(f'/datathonTelecom/Data/{l}.csv')"
   ]
  },
  {
   "cell_type": "code",
   "execution_count": null,
   "metadata": {},
   "outputs": [],
   "source": []
  }
 ],
 "metadata": {
  "kernelspec": {
   "display_name": "Python 3.7.7 64-bit ('dsdhblend': conda)",
   "language": "python",
   "name": "python37764bitdsdhblendconda950c9ddc76f14d9bbbf764852a3045db"
  },
  "language_info": {
   "codemirror_mode": {
    "name": "ipython",
    "version": 3
   },
   "file_extension": ".py",
   "mimetype": "text/x-python",
   "name": "python",
   "nbconvert_exporter": "python",
   "pygments_lexer": "ipython3",
   "version": "3.7.7"
  }
 },
 "nbformat": 4,
 "nbformat_minor": 4
}
